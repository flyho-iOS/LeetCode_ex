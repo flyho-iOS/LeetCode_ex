{
 "cells": [
  {
   "cell_type": "markdown",
   "metadata": {},
   "source": [
    "# 530. Minimum Absolute Difference in BST\n",
    "###### Example:\n",
    "```\n",
    "Input:\n",
    "\n",
    "   1\n",
    "    \\\n",
    "     3\n",
    "    /\n",
    "   2\n",
    "\n",
    "Output:\n",
    "1\n",
    "\n",
    "Explanation:\n",
    "The minimum absolute difference is 1, which is the difference between 2 and 1 (or between 2 and 3).\n",
    "```\n",
    "###### Note:\n",
    "There are at least two nodes in this BST.\n",
    "\n"
   ]
  },
  {
   "cell_type": "code",
   "execution_count": 1,
   "metadata": {},
   "outputs": [],
   "source": [
    "# \n",
    "def getMinimumDifference(self, root):\n",
    "        \"\"\"\n",
    "        :type root: TreeNode\n",
    "        :rtype: int\n",
    "        \"\"\"\n",
    "        def dfs(node, l=[]):\n",
    "            if node.left: \n",
    "                dfs(node.left, l)\n",
    "                \n",
    "            l.append(node.val)\n",
    "            \n",
    "            if node.right: \n",
    "                dfs(node.right, l)\n",
    "                \n",
    "            return l\n",
    "        l = dfs(root)\n",
    "        return min([abs(a-b) for a,b in zip(l, l[1:])])"
   ]
  },
  {
   "cell_type": "code",
   "execution_count": null,
   "metadata": {},
   "outputs": [],
   "source": []
  },
  {
   "cell_type": "markdown",
   "metadata": {},
   "source": [
    "# 617. Merge Two Binary Trees\n",
    "Given two binary trees and imagine that when you put one of them to cover the other, some nodes of the two trees are overlapped while the others are not.\n",
    "\n",
    "You need to merge them into a new binary tree. The merge rule is that if two nodes overlap, then sum node values up as the new value of the merged node. Otherwise, the NOT null node will be used as the node of new tree.\n",
    "\n",
    "###### Example 1:\n",
    "```\n",
    "Input: \n",
    "\tTree 1                     Tree 2                  \n",
    "          1                         2                             \n",
    "         / \\                       / \\                            \n",
    "        3   2                     1   3                        \n",
    "       /                           \\   \\                      \n",
    "      5                             4   7                  \n",
    "Output: \n",
    "Merged tree:\n",
    "\t     3\n",
    "\t    / \\\n",
    "\t   4   5\n",
    "\t  / \\   \\ \n",
    "\t 5   4   7\n",
    "```\n",
    "###### Note: \n",
    "The merging process must start from the root nodes of both trees.\n",
    "\n"
   ]
  },
  {
   "cell_type": "code",
   "execution_count": 2,
   "metadata": {},
   "outputs": [],
   "source": [
    "def mergeTrees(self, t1, t2):\n",
    "        \"\"\"\n",
    "        :type t1: TreeNode\n",
    "        :type t2: TreeNode\n",
    "        :rtype: TreeNode\n",
    "        \"\"\"\n",
    "        if not t1 and not t2: return None\n",
    "        res = TreeNode((t1.val if t1 else 0) + (t2.val if t2 else 0))\n",
    "        res.left = self.mergeTrees(t1 and t1.left, t2 and t2.left)\n",
    "        res.right = self.mergeTrees(t1 and t1.right, t2 and t2.right)\n",
    "        return res"
   ]
  },
  {
   "cell_type": "code",
   "execution_count": null,
   "metadata": {},
   "outputs": [],
   "source": []
  },
  {
   "cell_type": "markdown",
   "metadata": {},
   "source": [
    "# 637. Average of Levels in Binary Tree\n",
    "Given a non-empty binary tree, return the average value of the nodes on each level in the form of an array.\n",
    "###### Example 1:\n",
    "```\n",
    "Input:\n",
    "    3\n",
    "   / \\\n",
    "  9  20\n",
    "    /  \\\n",
    "   15   7\n",
    "Output: [3, 14.5, 11]\n",
    "Explanation:\n",
    "The average value of nodes on level 0 is 3,  on level 1 is 14.5, and on level 2 is 11. Hence return [3, 14.5, 11].\n",
    "```\n",
    "###### Note:\n",
    "The range of node's value is in the range of 32-bit signed integer."
   ]
  },
  {
   "cell_type": "code",
   "execution_count": 3,
   "metadata": {},
   "outputs": [],
   "source": [
    "def averageOfLevels(self, root):\n",
    "        \"\"\"\n",
    "        :type root: TreeNode\n",
    "        :rtype: List[float]\n",
    "        \"\"\"\n",
    "        if not root:\n",
    "            return []\n",
    "        \n",
    "        res = []\n",
    "        level = [root]\n",
    "        while level:\n",
    "            currentNodes = []\n",
    "            nextLevel = []\n",
    "            for node in level:\n",
    "                # 记录当前层的node\n",
    "                currentNodes.append(node.val)\n",
    "                # nextLevel 存放下一层的node\n",
    "                if node.left:\n",
    "                    nextLevel.append(node.left)\n",
    "                if node.right:\n",
    "                    nextLevel.append(node.right)\n",
    "            # 计算当前层的平均数\n",
    "            res.append(sum(currentNodes)/len(currentNodes))\n",
    "            level = nextLevel\n",
    "        return res"
   ]
  },
  {
   "cell_type": "code",
   "execution_count": null,
   "metadata": {},
   "outputs": [],
   "source": []
  },
  {
   "cell_type": "markdown",
   "metadata": {},
   "source": [
    "# 104. Maximum Depth of Binary Tree\n",
    "Given a binary tree, find its maximum depth.\n",
    "\n",
    "The maximum depth is the number of nodes along the longest path from the root node down to the farthest leaf node.\n",
    "\n",
    "Note: A leaf is a node with no children.\n",
    "\n",
    "###### Example:\n",
    "```\n",
    "Given binary tree [3,9,20,null,null,15,7],\n",
    "\n",
    "    3\n",
    "   / \\\n",
    "  9  20\n",
    "    /  \\\n",
    "   15   7\n",
    "return its depth = 3.\n",
    "```"
   ]
  },
  {
   "cell_type": "code",
   "execution_count": 6,
   "metadata": {},
   "outputs": [],
   "source": [
    "    def maxDepth(self, root):\n",
    "        \"\"\"\n",
    "        :type root: TreeNode\n",
    "        :rtype: int\n",
    "        \"\"\"\n",
    "        return self.__maxDepth(root)\n",
    "    \n",
    "    def __maxDepth(self,node):\n",
    "        if not node:\n",
    "            return 0\n",
    "        left_depth = self.__maxDepth(node.left)\n",
    "        right_depth = self.__maxDepth(node.right)\n",
    "        return max(left_depth,right_depth) + 1"
   ]
  },
  {
   "cell_type": "code",
   "execution_count": null,
   "metadata": {},
   "outputs": [],
   "source": []
  },
  {
   "cell_type": "markdown",
   "metadata": {},
   "source": [
    "# 226. Invert Binary Tree\n",
    "Invert a binary tree.\n",
    "\n",
    "###### Example:\n",
    "```\n",
    "Input:\n",
    "\n",
    "     4\n",
    "   /   \\\n",
    "  2     7\n",
    " / \\   / \\\n",
    "1   3 6   9\n",
    "Output:\n",
    "\n",
    "     4\n",
    "   /   \\\n",
    "  7     2\n",
    " / \\   / \\\n",
    "9   6 3   1\n",
    "```"
   ]
  },
  {
   "cell_type": "code",
   "execution_count": 10,
   "metadata": {},
   "outputs": [],
   "source": [
    "# 递归解法\n",
    "def invertTree(self, root):\n",
    "        \"\"\"\n",
    "        :type root: TreeNode\n",
    "        :rtype: TreeNode\n",
    "        \"\"\"\n",
    "    return self.__invertTree(root)\n",
    "        \n",
    "        \n",
    "def __invertTree(self,node):\n",
    "    if not node:\n",
    "        return None\n",
    "        \n",
    "    node.left,node.right = node.right,node.left\n",
    "    node.left = self.__invertTree(node.left)\n",
    "    node.right = self.__invertTree(node.right)\n",
    "    return node"
   ]
  },
  {
   "cell_type": "code",
   "execution_count": null,
   "metadata": {},
   "outputs": [],
   "source": [
    "# 非递归解法\n",
    "def invertTree(self, root):\n",
    "    stack = [root]\n",
    "    # 把stack中的node全部pop出来\n",
    "    while stack:\n",
    "        node = stack.pop()\n",
    "        if node:\n",
    "            # 交换左右节点\n",
    "            node.left, node.right = node.right, node.left\n",
    "            # 把node逐层放入stack\n",
    "            stack += node.left, node.right\n",
    "    return root"
   ]
  },
  {
   "cell_type": "code",
   "execution_count": null,
   "metadata": {},
   "outputs": [],
   "source": []
  }
 ],
 "metadata": {
  "kernelspec": {
   "display_name": "Python 3",
   "language": "python",
   "name": "python3"
  },
  "language_info": {
   "codemirror_mode": {
    "name": "ipython",
    "version": 3
   },
   "file_extension": ".py",
   "mimetype": "text/x-python",
   "name": "python",
   "nbconvert_exporter": "python",
   "pygments_lexer": "ipython3",
   "version": "3.6.5"
  }
 },
 "nbformat": 4,
 "nbformat_minor": 2
}
