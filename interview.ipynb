{
 "cells": [
  {
   "cell_type": "markdown",
   "metadata": {},
   "source": [
    "# 226. Invert Binary Tree（反转二叉树）\n",
    "Invert a binary tree.\n",
    "\n",
    "###### Example:\n",
    "```\n",
    "Input:\n",
    "\n",
    "     4\n",
    "   /   \\\n",
    "  2     7\n",
    " / \\   / \\\n",
    "1   3 6   9\n",
    "Output:\n",
    "\n",
    "     4\n",
    "   /   \\\n",
    "  7     2\n",
    " / \\   / \\\n",
    "9   6 3   1\n",
    "```"
   ]
  },
  {
   "cell_type": "code",
   "execution_count": null,
   "metadata": {},
   "outputs": [],
   "source": [
    "# 递归解法\n",
    "def invertTree(self, root):\n",
    "        \"\"\"\n",
    "        :type root: TreeNode\n",
    "        :rtype: TreeNode\n",
    "        \"\"\"\n",
    "    return self.__invertTree(root)\n",
    "        \n",
    "        \n",
    "def __invertTree(self,node):\n",
    "    if not node:\n",
    "        return None\n",
    "        \n",
    "    node.left,node.right = node.right,node.left\n",
    "    node.left = self.__invertTree(node.left)\n",
    "    node.right = self.__invertTree(node.right)\n",
    "    return node"
   ]
  },
  {
   "cell_type": "code",
   "execution_count": 1,
   "metadata": {},
   "outputs": [],
   "source": [
    "# 非递归解法\n",
    "def invertTree(self, root):\n",
    "    stack = [root]\n",
    "    # 把stack中的node全部pop出来\n",
    "    while stack:\n",
    "        node = stack.pop()\n",
    "        if node:\n",
    "            # 交换左右节点\n",
    "            node.left, node.right = node.right, node.left\n",
    "            # 把node逐层放入stack\n",
    "            stack += node.left, node.right\n",
    "    return root"
   ]
  },
  {
   "cell_type": "code",
   "execution_count": null,
   "metadata": {},
   "outputs": [],
   "source": []
  },
  {
   "cell_type": "markdown",
   "metadata": {},
   "source": [
    "# 3. Longest Substring Without Repeating Characters\n",
    "Given a string, find the length of the longest substring without repeating characters.\n",
    "\n",
    "###### Examples:\n",
    "\n",
    "Given \"abcabcbb\", the answer is \"abc\", which the length is 3.\n",
    "\n",
    "Given \"bbbbb\", the answer is \"b\", with the length of 1.\n",
    "\n",
    "Given \"pwwkew\", the answer is \"wke\", with the length of 3. Note that the answer must be a substring, \"pwke\" is a subsequence and not a substring."
   ]
  },
  {
   "cell_type": "code",
   "execution_count": 2,
   "metadata": {},
   "outputs": [],
   "source": [
    "def lengthOfLongestSubstring(self, s):\n",
    "        \"\"\"\n",
    "        :type s: str\n",
    "        :rtype: int\n",
    "        \"\"\"\n",
    "        # 记录出现过的字符的index\n",
    "        dic = {}\n",
    "        # 起始位置为0\n",
    "        start = maxLen = 0\n",
    "        for i in range(len(s)):\n",
    "            c = s[i]\n",
    "            # 当前字符已出现过 and 出现的位置在start之前\n",
    "            if c in dic and start <= dic[c]:\n",
    "                maxLen = max(maxLen,i-start)\n",
    "                start = dic[c]+1\n",
    "            else:\n",
    "                # 计算最大长度\n",
    "                maxLen = max(maxLen,i-start+1)\n",
    "            # 记录出现的字符\n",
    "            dic[c] = i\n",
    "        \n",
    "        return maxLen"
   ]
  },
  {
   "cell_type": "code",
   "execution_count": null,
   "metadata": {},
   "outputs": [],
   "source": []
  },
  {
   "cell_type": "markdown",
   "metadata": {},
   "source": [
    "# 151. Reverse Words in a String\n",
    "Given an input string, reverse the string word by word.\n",
    "\n",
    "###### Example:  \n",
    "```\n",
    "Input: \"the sky is blue\",\n",
    "Output: \"blue is sky the\".\n",
    "```\n",
    "###### Note:\n",
    "\n",
    "* A word is defined as a sequence of non-space characters.\n",
    "* Input string may contain leading or trailing spaces. However, your reversed string should not contain leading or trailing spaces.\n",
    "* You need to reduce multiple spaces between two words to a single space in the reversed string.\n",
    "\n",
    "###### Follow up: \n",
    "For C programmers, try to solve it in-place in O(1) space."
   ]
  },
  {
   "cell_type": "code",
   "execution_count": 3,
   "metadata": {},
   "outputs": [],
   "source": [
    "def reverseWords(self, s):\n",
    "        \"\"\"\n",
    "        :type s: str\n",
    "        :rtype: str\n",
    "        \"\"\"\n",
    "        # \n",
    "        words = s.split()\n",
    "        for i in range(len(words)//2):\n",
    "            words[i],words[len(words)-i-1] = words[len(words)-i-1], words[i]\n",
    "        \n",
    "        return ' '.join([(words[i]) for i in range(len(words))])"
   ]
  },
  {
   "cell_type": "code",
   "execution_count": 4,
   "metadata": {},
   "outputs": [],
   "source": [
    "# Python语言特性简单解法\n",
    "def reverseWords(self, s):\n",
    "    \" \".join(s.split()[::-1])"
   ]
  },
  {
   "cell_type": "code",
   "execution_count": null,
   "metadata": {},
   "outputs": [],
   "source": []
  },
  {
   "cell_type": "markdown",
   "metadata": {},
   "source": [
    "# 求最大公约数、最小公倍数"
   ]
  },
  {
   "cell_type": "code",
   "execution_count": 7,
   "metadata": {},
   "outputs": [],
   "source": [
    "def maxdivisor(a,b):\n",
    "    if a < b:\n",
    "        a,b = b,a\n",
    "    \n",
    "    while b != 0:\n",
    "        tmp = a % b\n",
    "        a = b\n",
    "        b = tmp\n",
    "    \n",
    "    return a"
   ]
  },
  {
   "cell_type": "code",
   "execution_count": 12,
   "metadata": {},
   "outputs": [],
   "source": [
    "def minmultiple(a,b):\n",
    "    return a * b // maxdivisor(a,b)"
   ]
  },
  {
   "cell_type": "code",
   "execution_count": 13,
   "metadata": {},
   "outputs": [
    {
     "data": {
      "text/plain": [
       "48"
      ]
     },
     "execution_count": 13,
     "metadata": {},
     "output_type": "execute_result"
    }
   ],
   "source": [
    "minmultiple(24,16)"
   ]
  },
  {
   "cell_type": "code",
   "execution_count": null,
   "metadata": {},
   "outputs": [],
   "source": []
  },
  {
   "cell_type": "markdown",
   "metadata": {},
   "source": [
    "# 阶乘"
   ]
  },
  {
   "cell_type": "code",
   "execution_count": 14,
   "metadata": {},
   "outputs": [],
   "source": [
    "def fibonacci(n):\n",
    "    if n == 1:\n",
    "        return 1\n",
    "    return n*fibonacci(n-1)"
   ]
  },
  {
   "cell_type": "code",
   "execution_count": null,
   "metadata": {},
   "outputs": [],
   "source": []
  },
  {
   "cell_type": "markdown",
   "metadata": {},
   "source": [
    "# 快速排序"
   ]
  },
  {
   "cell_type": "code",
   "execution_count": 5,
   "metadata": {},
   "outputs": [],
   "source": [
    "# # time O(nlgn) space O(1)\n",
    "# 迭代解法\n",
    "def quicksort_iter(nums, left, right):\n",
    "    if left >= right: return\n",
    "\n",
    "    low, high = left, right\n",
    "    key = nums[left]\n",
    "    while low < high:\n",
    "        while low < high and nums[high] >= key:\n",
    "            high -= 1\n",
    "        nums[low] = nums[high]\n",
    "\n",
    "        while low < high and nums[low] <= key:\n",
    "            low += 1\n",
    "        nums[high] = nums[low]\n",
    "\n",
    "    nums[low] = key\n",
    "    quicksort_iter(nums, left, low)\n",
    "    quicksort_iter(nums, high + 1, right)"
   ]
  },
  {
   "cell_type": "code",
   "execution_count": 85,
   "metadata": {},
   "outputs": [],
   "source": [
    "# 递归解法\n",
    "def quicksort_recursion(nums,reverse=False):\n",
    "    \n",
    "    return _quicksort(nums) if reverse == False else list(reversed(_quicksort(nums)))\n",
    "\n",
    "def _quicksort(nums):\n",
    "    if len(nums) <= 1:\n",
    "        return nums\n",
    "#     print(nums)\n",
    "    key = nums[0]\n",
    "    nums_left = _quicksort([x for x in nums[1:] if x < key])\n",
    "    nums_right = _quicksort([x for x in nums[1:] if x >= key])\n",
    "#     print('part:',nums_left , [key] , nums_right)\n",
    "    return nums_left + [key] + nums_right"
   ]
  },
  {
   "cell_type": "code",
   "execution_count": 86,
   "metadata": {},
   "outputs": [],
   "source": [
    "# nums = [5,3,8,6,9,2,4,1]"
   ]
  },
  {
   "cell_type": "code",
   "execution_count": null,
   "metadata": {},
   "outputs": [],
   "source": []
  },
  {
   "cell_type": "markdown",
   "metadata": {},
   "source": [
    "# 归并排序"
   ]
  },
  {
   "cell_type": "code",
   "execution_count": 119,
   "metadata": {},
   "outputs": [],
   "source": [
    "# time O(nlgn) space O(n)\n",
    "def merge_sort(nums,reverse=False):\n",
    "    nums = __merge_sort(nums)\n",
    "    return nums if reverse == False else list(reversed(nums))\n",
    "\n",
    "def __merge_sort(nums):\n",
    "    if len(nums) <= 1:\n",
    "        return nums\n",
    "    \n",
    "    mid = len(nums)//2\n",
    "    partA = __merge_sort(nums[:mid])\n",
    "    partB = __merge_sort(nums[mid:])\n",
    "    return __merge(partA,partB)\n",
    "\n",
    "def  __merge(partA:list,partB:list):\n",
    "    c = []\n",
    "    while len(partA) > 0 and len(partB) > 0:\n",
    "        if partA[0] > partB[0]:\n",
    "            c.append(partB[0])\n",
    "            partB.remove(partB[0])\n",
    "        else:\n",
    "            c.append(partA[0])\n",
    "            partA.remove(partA[0])\n",
    "    \n",
    "    c += partA if len(partB) == 0 else partB\n",
    "    return c"
   ]
  },
  {
   "cell_type": "code",
   "execution_count": 123,
   "metadata": {},
   "outputs": [],
   "source": [
    "nums = [5,3,8,6,9,2,4,1]\n",
    "# nums = [4,1,2,3]"
   ]
  },
  {
   "cell_type": "code",
   "execution_count": 124,
   "metadata": {},
   "outputs": [
    {
     "data": {
      "text/plain": [
       "[1, 2, 3, 4, 5, 6, 8, 9]"
      ]
     },
     "execution_count": 124,
     "metadata": {},
     "output_type": "execute_result"
    }
   ],
   "source": [
    "merge_sort(nums)"
   ]
  },
  {
   "cell_type": "code",
   "execution_count": null,
   "metadata": {},
   "outputs": [],
   "source": []
  },
  {
   "cell_type": "markdown",
   "metadata": {},
   "source": [
    "# 插入排序"
   ]
  },
  {
   "cell_type": "code",
   "execution_count": 145,
   "metadata": {},
   "outputs": [],
   "source": [
    "# time O(n^2) space O(1)\n",
    "# 当前位置的数字和前面的逐个对比，比当前位置大就交换位置\n",
    "def insert_sort(nums,reverse=False):\n",
    "    for i in range(1,len(nums)):\n",
    "        # i 为当前数的位置\n",
    "        unsort_idx = i\n",
    "        # 和前面的数逐个对比，\n",
    "        while unsort_idx > 0 and nums[unsort_idx-1] > nums[unsort_idx]:\n",
    "            nums[unsort_idx-1],nums[unsort_idx] = nums[unsort_idx],nums[unsort_idx-1]\n",
    "            # 当前位置往前移1\n",
    "            unsort_idx -= 1\n",
    "            \n",
    "    if reverse == True: nums.reverse()\n",
    "    return nums"
   ]
  },
  {
   "cell_type": "code",
   "execution_count": 146,
   "metadata": {},
   "outputs": [],
   "source": [
    "nums = [5,3,8,6,9,2,4,1]"
   ]
  },
  {
   "cell_type": "code",
   "execution_count": 147,
   "metadata": {},
   "outputs": [
    {
     "data": {
      "text/plain": [
       "[1, 2, 3, 4, 5, 6, 8, 9]"
      ]
     },
     "execution_count": 147,
     "metadata": {},
     "output_type": "execute_result"
    }
   ],
   "source": [
    "insert_sort(nums,False)"
   ]
  },
  {
   "cell_type": "code",
   "execution_count": null,
   "metadata": {},
   "outputs": [],
   "source": []
  },
  {
   "cell_type": "markdown",
   "metadata": {},
   "source": [
    "# 选择排序"
   ]
  },
  {
   "cell_type": "code",
   "execution_count": 151,
   "metadata": {},
   "outputs": [],
   "source": [
    "# time O(n^2) space O(1)\n",
    "def select_sort(nums):\n",
    "    for i in range(len(nums)):\n",
    "        # 开始时假定一个最小值的位置 pos_min\n",
    "        pos_min = i\n",
    "        # 从i的下一位开始遍历对比\n",
    "        for j in range(i+1,len(nums)):\n",
    "            # 如果找到比位置i的数更小的就把j赋值给pos_min\n",
    "            if nums[j] < nums[pos_min]:\n",
    "                pos_min = j\n",
    "        # i 和 pos_min 的数交换，此时最小值就在i，且i前面的数字都是排序好的\n",
    "        nums[pos_min],nums[i] = nums[i],nums[pos_min]\n",
    "    return nums"
   ]
  },
  {
   "cell_type": "code",
   "execution_count": 152,
   "metadata": {},
   "outputs": [],
   "source": [
    "nums = [5,3,8,6,9,2,4,1]"
   ]
  },
  {
   "cell_type": "code",
   "execution_count": 153,
   "metadata": {},
   "outputs": [
    {
     "data": {
      "text/plain": [
       "[1, 2, 3, 4, 5, 6, 8, 9]"
      ]
     },
     "execution_count": 153,
     "metadata": {},
     "output_type": "execute_result"
    }
   ],
   "source": [
    "select_sort(nums)"
   ]
  },
  {
   "cell_type": "code",
   "execution_count": null,
   "metadata": {},
   "outputs": [],
   "source": []
  },
  {
   "cell_type": "markdown",
   "metadata": {},
   "source": [
    "# 147. Insertion Sort List （链表插入排序）\n",
    "Sort a linked list using insertion sort.\n",
    "\n",
    "\n",
    "A graphical example of insertion sort. The partial sorted list (black) initially contains only the first element in the list.\n",
    "With each iteration one element (red) is removed from the input data and inserted in-place into the sorted list\n",
    " \n",
    "\n",
    "###### Algorithm of Insertion Sort:\n",
    "\n",
    "* Insertion sort iterates, consuming one input element each repetition, and growing a sorted output list.\n",
    "* At each iteration, insertion sort removes one element from the input data, finds the location it belongs within the   sorted list, and inserts it there.\n",
    "* It repeats until no input elements remain."
   ]
  },
  {
   "cell_type": "code",
   "execution_count": 156,
   "metadata": {},
   "outputs": [],
   "source": [
    "def insertionSortList(self, head):\n",
    "        \"\"\"\n",
    "        :type head: ListNode\n",
    "        :rtype: ListNode\n",
    "        \"\"\"\n",
    "        p = dummy = ListNode(0)\n",
    "        cur = dummy.next = head\n",
    "        while cur and cur.next:\n",
    "            val = cur.next.val\n",
    "            # 当前小于next，cur指针指向下一个\n",
    "            if cur.val < val:\n",
    "                cur = cur.next\n",
    "                continue\n",
    "            if p.next.val > val:\n",
    "                p = dummy\n",
    "            while p.next.val < val:\n",
    "                p = p.next\n",
    "            new = cur.next\n",
    "            cur.next = new.next\n",
    "            new.next = p.next\n",
    "            p.next = new\n",
    "        return dummy.next"
   ]
  },
  {
   "cell_type": "code",
   "execution_count": null,
   "metadata": {},
   "outputs": [],
   "source": []
  },
  {
   "cell_type": "markdown",
   "metadata": {},
   "source": [
    "# 142. Linked List Cycle II\n",
    "Given a linked list, return the node where the cycle begins. If there is no cycle, return null.\n",
    "\n",
    "###### Note: \n",
    "Do not modify the linked list.\n",
    "\n",
    "###### Follow up:\n",
    "Can you solve it without using extra space?"
   ]
  },
  {
   "cell_type": "code",
   "execution_count": 164,
   "metadata": {},
   "outputs": [],
   "source": [
    "def detectCycle(self, head):\n",
    "        \"\"\"\n",
    "        :type head: ListNode\n",
    "        :rtype: ListNode\n",
    "        \"\"\"\n",
    "        if not head:\n",
    "            return None\n",
    "        \n",
    "        slow = head\n",
    "        fast = head\n",
    "        # fast走两步，slow走一步，直到重合\n",
    "        while fast and fast.next:\n",
    "            slow = slow.next\n",
    "            fast = fast.next.next\n",
    "            \n",
    "            if slow == fast:\n",
    "                break\n",
    "        else:\n",
    "            return None\n",
    "        # 找到重合点后，分别从重合点和链表的head出发，直到重合，重合点就是环的出发点\n",
    "        while head != slow:\n",
    "            slow = slow.next\n",
    "            head = head.next\n",
    "        return head"
   ]
  },
  {
   "cell_type": "code",
   "execution_count": null,
   "metadata": {},
   "outputs": [],
   "source": []
  }
 ],
 "metadata": {
  "kernelspec": {
   "display_name": "Python 3",
   "language": "python",
   "name": "python3"
  },
  "language_info": {
   "codemirror_mode": {
    "name": "ipython",
    "version": 3
   },
   "file_extension": ".py",
   "mimetype": "text/x-python",
   "name": "python",
   "nbconvert_exporter": "python",
   "pygments_lexer": "ipython3",
   "version": "3.6.5"
  }
 },
 "nbformat": 4,
 "nbformat_minor": 2
}
